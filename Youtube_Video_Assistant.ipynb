{
  "nbformat": 4,
  "nbformat_minor": 0,
  "metadata": {
    "colab": {
      "provenance": [],
      "authorship_tag": "ABX9TyNfTOUVDBuhCAHE0gtlC1Fg"
    },
    "kernelspec": {
      "name": "python3",
      "display_name": "Python 3"
    },
    "language_info": {
      "name": "python"
    }
  },
  "cells": [
    {
      "cell_type": "markdown",
      "source": [
        "### Install and Import Required Libraries"
      ],
      "metadata": {
        "id": "bfpOIaZ-4Ifg"
      }
    },
    {
      "cell_type": "code",
      "source": [
        "## Install Necessary Libraries\n",
        "!pip install -q youtube-transcript-api langchain-community langchain-google-genai faiss-cpu"
      ],
      "metadata": {
        "colab": {
          "base_uri": "https://localhost:8080/"
        },
        "id": "Vwdwes6g4xdd",
        "outputId": "604f09b6-1fb5-48e8-b9f0-5582d24322a2"
      },
      "execution_count": null,
      "outputs": [
        {
          "output_type": "stream",
          "name": "stdout",
          "text": [
            "\u001b[2K   \u001b[90m━━━━━━━━━━━━━━━━━━━━━━━━━━━━━━━━━━━━━━━━\u001b[0m \u001b[32m2.2/2.2 MB\u001b[0m \u001b[31m20.1 MB/s\u001b[0m eta \u001b[36m0:00:00\u001b[0m\n",
            "\u001b[2K   \u001b[90m━━━━━━━━━━━━━━━━━━━━━━━━━━━━━━━━━━━━━━━━\u001b[0m \u001b[32m2.5/2.5 MB\u001b[0m \u001b[31m24.5 MB/s\u001b[0m eta \u001b[36m0:00:00\u001b[0m\n",
            "\u001b[2K   \u001b[90m━━━━━━━━━━━━━━━━━━━━━━━━━━━━━━━━━━━━━━━━\u001b[0m \u001b[32m44.8/44.8 kB\u001b[0m \u001b[31m2.0 MB/s\u001b[0m eta \u001b[36m0:00:00\u001b[0m\n",
            "\u001b[2K   \u001b[90m━━━━━━━━━━━━━━━━━━━━━━━━━━━━━━━━━━━━━━━━\u001b[0m \u001b[32m31.3/31.3 MB\u001b[0m \u001b[31m17.6 MB/s\u001b[0m eta \u001b[36m0:00:00\u001b[0m\n",
            "\u001b[2K   \u001b[90m━━━━━━━━━━━━━━━━━━━━━━━━━━━━━━━━━━━━━━━━\u001b[0m \u001b[32m1.4/1.4 MB\u001b[0m \u001b[31m18.0 MB/s\u001b[0m eta \u001b[36m0:00:00\u001b[0m\n",
            "\u001b[2K   \u001b[90m━━━━━━━━━━━━━━━━━━━━━━━━━━━━━━━━━━━━━━━━\u001b[0m \u001b[32m44.4/44.4 kB\u001b[0m \u001b[31m2.0 MB/s\u001b[0m eta \u001b[36m0:00:00\u001b[0m\n",
            "\u001b[2K   \u001b[90m━━━━━━━━━━━━━━━━━━━━━━━━━━━━━━━━━━━━━━━━\u001b[0m \u001b[32m50.9/50.9 kB\u001b[0m \u001b[31m1.4 MB/s\u001b[0m eta \u001b[36m0:00:00\u001b[0m\n",
            "\u001b[?25h\u001b[31mERROR: pip's dependency resolver does not currently take into account all the packages that are installed. This behaviour is the source of the following dependency conflicts.\n",
            "google-generativeai 0.8.5 requires google-ai-generativelanguage==0.6.15, but you have google-ai-generativelanguage 0.6.18 which is incompatible.\u001b[0m\u001b[31m\n",
            "\u001b[0m"
          ]
        }
      ]
    },
    {
      "cell_type": "code",
      "execution_count": null,
      "metadata": {
        "id": "XiCUgQ5c4AgV"
      },
      "outputs": [],
      "source": [
        "## Import Libraries\n",
        "from youtube_transcript_api import YouTubeTranscriptApi\n",
        "from langchain.text_splitter import RecursiveCharacterTextSplitter\n",
        "from langchain_google_genai import ChatGoogleGenerativeAI\n",
        "# from langchain_openai import OpenAIEmbeddings, ChatOpenAI\n",
        "from langchain_community.vectorstores import FAISS\n",
        "from langchain_core.prompts import PromptTemplate\n",
        "from google.colab import userdata\n",
        "import os"
      ]
    },
    {
      "cell_type": "code",
      "source": [
        "# get the API key from Google Colab Secrets\n",
        "api_token = userdata.get(\"GOOGLE_API_KEY\")\n",
        "\n",
        "# set the API Key and print\n",
        "os.environ['GOOGLE_API_KEY'] = api_token\n",
        "print(api_token)"
      ],
      "metadata": {
        "colab": {
          "base_uri": "https://localhost:8080/"
        },
        "id": "lV5_sLAY4XLE",
        "outputId": "0b1af0f3-536e-4e8a-d267-0f42787e2a06"
      },
      "execution_count": null,
      "outputs": [
        {
          "output_type": "stream",
          "name": "stdout",
          "text": [
            "Ashutosh\n"
          ]
        }
      ]
    },
    {
      "cell_type": "markdown",
      "source": [
        "### Step 1: Document Ingestion\n",
        "##### First we will fetch the transcript of the video using YouTubeTranscriptApi."
      ],
      "metadata": {
        "id": "EmX-WJSZ5yQe"
      }
    },
    {
      "cell_type": "code",
      "source": [
        "## provide the video ID\n",
        "youtube_video_id = '9EqrUK7ghho'\n",
        "\n",
        "try:\n",
        "    ## specifies the language in which video in\n",
        "    transcript_list = YouTubeTranscriptApi.get_transcript(youtube_video_id, languages=['en'])\n",
        "    print(transcript_list[0:2])\n",
        "except Exception as e:\n",
        "    print(f\"Error Occured in Transcription: {e}\")"
      ],
      "metadata": {
        "colab": {
          "base_uri": "https://localhost:8080/"
        },
        "id": "jwwrEd1S5uLL",
        "outputId": "5149cbfa-87a5-4046-c415-820e8e8f70ca"
      },
      "execution_count": 24,
      "outputs": [
        {
          "output_type": "stream",
          "name": "stdout",
          "text": [
            "[{'text': '61% of people feel expected to just get', 'start': 0.28, 'duration': 6.639}, {'text': \"over stress yeah it's like just power\", 'start': 4.759, 'duration': 5.361}]\n"
          ]
        }
      ]
    },
    {
      "cell_type": "code",
      "source": [
        "## combine the list to get the full text\n",
        "transcript = \" \".join([text_dict['text'] for text_dict in transcript_list])\n",
        "# print(transcript)"
      ],
      "metadata": {
        "id": "HX_RtwgN7OMT"
      },
      "execution_count": 27,
      "outputs": []
    },
    {
      "cell_type": "code",
      "source": [
        "## Split the transcript text into small chunks for better search\n",
        "text_splitter = RecursiveCharacterTextSplitter(chunk_size=1000, chunk_overlap=200)\n",
        "text_chunks = text_splitter.create_documents([transcript])\n",
        "print(len(text_chunks))"
      ],
      "metadata": {
        "colab": {
          "base_uri": "https://localhost:8080/"
        },
        "id": "KYaqq-QR-OQo",
        "outputId": "fa8ad680-5ac6-4085-9e9d-b9f1c91c7de5"
      },
      "execution_count": 26,
      "outputs": [
        {
          "output_type": "stream",
          "name": "stdout",
          "text": [
            "98\n"
          ]
        }
      ]
    },
    {
      "cell_type": "code",
      "source": [
        "text_chunks[0]"
      ],
      "metadata": {
        "colab": {
          "base_uri": "https://localhost:8080/"
        },
        "id": "l67LoJmh_CcV",
        "outputId": "af784ff8-2cbd-438c-dd4c-dff35c4fb9e9"
      },
      "execution_count": 25,
      "outputs": [
        {
          "output_type": "execute_result",
          "data": {
            "text/plain": [
              "Document(metadata={}, page_content=\"61% of people feel expected to just get over stress yeah it's like just power through the moment CEO of calm author of recharge David code good stress could lead to resilience you're never really going to have a stressfree work environment not everything has to be 24/7 365 because at some point you've caused a lot of bad stress that's a real kind of indicator for you to say I need to really kind of take a hard stop and figure out how I recharge the number one Health and Wellness podcast J shett J shett the one the only J sh hey everyone welcome back to onp purpose the number one place you come to become happier healthier and more healed thank you so much for tuning in today today I'm so excited because I talked to a really good friend someone that I respect so highly and admire so deeply and I've had the fortune of knowing for the last couple of years I'm talking about David Co the CEO of calm the leading app for meditation and mindfulness and a new author of his book recharge that\")"
            ]
          },
          "metadata": {},
          "execution_count": 25
        }
      ]
    },
    {
      "cell_type": "markdown",
      "source": [
        "### Embedding and Store\n",
        "##### Generate the embedding of the text chunks and store them in a vector store for future retrival"
      ],
      "metadata": {
        "id": "2PVx2xsO_Vam"
      }
    },
    {
      "cell_type": "code",
      "source": [],
      "metadata": {
        "id": "-i4-aZxm_GF0"
      },
      "execution_count": null,
      "outputs": []
    }
  ]
}